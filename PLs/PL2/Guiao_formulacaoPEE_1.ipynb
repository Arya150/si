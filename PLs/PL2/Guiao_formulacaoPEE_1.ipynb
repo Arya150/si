{
 "cells": [
  {
   "cell_type": "markdown",
   "metadata": {},
   "source": [
    "# Sistemas Inteligentes\n",
    "\n",
    "## Paradigma do Espaços de Estados: parte 1\n",
    "\n",
    "## Conteúdos\n",
    "\n",
    "* Representação de um estado\n",
    "    * usando strings (o problema do grafo)\n",
    "    * usando objetos (o problema das setas)\n",
    "* A classe **Problem**\n",
    "    * Definição do objetivo\n",
    "    * Definição dos métodos *actions*, *result* e *path_cost*\n",
    "* Exercícios"
   ]
  },
  {
   "cell_type": "markdown",
   "metadata": {},
   "source": [
    "## Introdução\n",
    "\n",
    "Vamos ver como poderemos, usando a linguagem Python, resolver problemas formulados de acordo com o paradigma do espaço de estados (PEE). Para isso, há que completar dois passos:\n",
    "1. Definir o problema;\n",
    "2. Utilizar um algoritmo de procura para o resolver.\n",
    "\n",
    "Nesta aula vamos tratar apenas da formulação, i.e., da definição do problema."
   ]
  },
  {
   "cell_type": "markdown",
   "metadata": {},
   "source": [
    "Recordando, para formularmos um problema de acordo com esta metodologia, precisamos de:\n",
    "* **Estados**: Idealizar uma representação para o que vamos considerar um estado. Notem que o estado deve ser mínimo, apenas deve conter a informação que muda com as acções; \n",
    "* **Estado Inicial**: Identificar o estado inicial;\n",
    "* **Objetivo**: Verificar se um estado satisfaz o objetivo, sendo assim, um dos estados finais;\n",
    "* **Acções**: Para cada estado, caracterizar rigorosamente as acções de mudança de estado, de que modo incrementam os custos dos caminhos, e quais os estados resultantes."
   ]
  },
  {
   "cell_type": "markdown",
   "metadata": {},
   "source": [
    "## Módulo *searchPlus.py* - breve explicação\n",
    "\n",
    "Este módulo é uma variante muito ligeira do `search.py` que está disponível no repositório [aima-python](https://github.com/aimacode/aima-python), que contém a implementação (em Python) da generalidade dos algoritmos descritos no livro da disciplina (Russell & Norvig). \n",
    "Muitas das definições deste módulo não serão utilizadas. Vamos apenas concentrar-nos em algumas das suas classes e funções.\n",
    "No essencial, é disponiblizado o seguinte:\n",
    "* A classe **Problem**, que vamos utilizar para definir os problemas;\n",
    "* A classe **Node**, que representa um ***nó de procura***, utilizada pelos algoritmos de procura implementados;\n",
    "* A implementação de vários algoritmos de procura.\n",
    "\n",
    "Para esta aula dedicada à formulação, apenas precisamos de usar a classe **Problem** do módulo, que tem de ser importado, mas não deverá alterá-lo."
   ]
  },
  {
   "cell_type": "code",
   "execution_count": 8,
   "metadata": {},
   "outputs": [],
   "source": [
    "from searchPlus import *"
   ]
  },
  {
   "cell_type": "markdown",
   "metadata": {},
   "source": [
    "## Exemplo base \n",
    "Para já, vamos ilustrar com um exemplo de problema que consiste num grafo de estados, com um estado inicial I e final F. Notem que há dois arcos bidireccionais, entre I e A e entre I e B. Queremos encontrar uma sequência de acções que nos leve de I a F.\n",
    "\n",
    "\n",
    "<img src=\"figures/figura-ee-T-1.png\" alt=\"Drawing\" style=\"width: 300px;\"/>"
   ]
  },
  {
   "cell_type": "markdown",
   "metadata": {},
   "source": [
    "### Representação de um estado\n",
    "Não há qualquer restrição quanto ao tipo que o estado pode assumir (pode ser um inteiro, uma string, uma lista, um tuplo, etc, ou um tipo definido recorrendo a uma nova classe).\n",
    "\n",
    "Neste exemplo do grafo abstracto, o estado é identificável por uma letra.\n",
    "Em Python, vamos considerar que um estado é uma string de um caracter que corresponde aos nós do grafo. Vamos ter o seguinte conjunto de estados:\n",
    "{'I', 'A', 'B', 'C', 'D', 'F'}. "
   ]
  },
  {
   "cell_type": "markdown",
   "metadata": {},
   "source": [
    "### A classe **Problem**\n",
    "Esta classe funciona como uma classe *abstracta*. Para definir um problema concreto é necessário criar uma sua sub-classe. A classe **Problem** tem um construtor em que se passa o estado inicial e o estado final ou conjunto de estados finais e a função de teste do objetivo apenas verifica se um estado é igual ao estado final ou se pertence ao conjunto dos estados finais, respetivamente; tem também um método ***path_cost()***, por defeito, que considera que todas as acções possuem custo 1, o que é o caso do nosso grafo em cima."
   ]
  },
  {
   "cell_type": "code",
   "execution_count": 3,
   "metadata": {},
   "outputs": [],
   "source": [
    "## Apenas a definição da classe, ainda sem qualquer conteúdo\n",
    "class ProblemaGrafo(Problem) :\n",
    "    pass "
   ]
  },
  {
   "cell_type": "markdown",
   "metadata": {},
   "source": [
    "Um problema é criado fornecendo a identificação do estado inicial e, opcionalmente, o objetivo. Veja-se a assinatura do construtor:\n",
    "\n",
    "```python\n",
    "def __init__(self, initial, goal=None):\n",
    "    \"\"\"The constructor specifies the initial state, and possibly a goal\n",
    "        state, if there is a unique goal. Your subclass's constructor can add\n",
    "        other arguments.\"\"\"\n",
    "        self.initial = initial\n",
    "        self.goal = goal\n",
    "```\n",
    "Por exemplo, para criarmos o problema de encontrar um caminho entre **'I'** e **'F'** no espaço acima, poderíamos fazer:"
   ]
  },
  {
   "cell_type": "code",
   "execution_count": 4,
   "metadata": {},
   "outputs": [],
   "source": [
    "problema_1 = ProblemaGrafo('I','F')"
   ]
  },
  {
   "cell_type": "markdown",
   "metadata": {},
   "source": [
    "Os atributos **initial** e **goal** guardam esta informação:"
   ]
  },
  {
   "cell_type": "code",
   "execution_count": 5,
   "metadata": {},
   "outputs": [
    {
     "name": "stdout",
     "output_type": "stream",
     "text": [
      "I\n",
      "F\n"
     ]
    }
   ],
   "source": [
    "print(problema_1.initial)\n",
    "print(problema_1.goal)"
   ]
  },
  {
   "cell_type": "markdown",
   "metadata": {},
   "source": [
    "#### Definição do objetivo\n",
    "Há duas formas de definir o teste de satisfação do objetivo:\n",
    "1. Indicando explicitamente o seu valor, utilizando o parâmetro ***goal*** do construtor; o parâmetro ***goal*** pode ser também uma lista de estados, nos casos em que existam vários estados finais.\n",
    "2. Redefinindo o método **goal_test()** na classe que define o nosso problema:\n",
    "\n",
    "```python\n",
    "def goal_test(self, state):\n",
    "        \"\"\"Return True if the state is a goal. The default method compares the\n",
    "        state to self.goal or checks for state in self.goal if it is a\n",
    "        list, as specified in the constructor. Override this method if\n",
    "        checking against a single self.goal is not enough.\"\"\"\n",
    "        if isinstance(self.goal, list):\n",
    "            return state in self.goal\n",
    "        else:\n",
    "            return state == self.goal\n",
    "\n",
    "```\n",
    "Este método retornará ```True``` nos casos em que o estado fornecido (**state**) seja o estado final ou membro dos estados finais.\n",
    "\n",
    "No exemplo acima, utilizámos a primeira opção, definindo como objetivo o estado **F**."
   ]
  },
  {
   "cell_type": "markdown",
   "metadata": {},
   "source": [
    "#### Operadores\n",
    "A implementação dos operadores de mudança de estado é feita com base na definição de dois métodos:\n",
    "* ```actions(self, state)``` - Este método, dado um estado, devolve a lista de todas as acções possíveis nesse estado; a representação concreta do que é uma acção fica em aberto.\n",
    "* ```result(self, state, action)``` - Dados um estado e uma acção, este método devolve o estado resultante da execução da acção ***action***, no estado ***state***.\n",
    "\n",
    "A definição destes dois métodos na classe que define o problema é ***obrigatória***. Notem que a classe **Problem** tem os métodos ***actions()*** e ***result()*** por implementar."
   ]
  },
  {
   "cell_type": "code",
   "execution_count": 6,
   "metadata": {},
   "outputs": [
    {
     "ename": "NotImplementedError",
     "evalue": "",
     "output_type": "error",
     "traceback": [
      "\u001B[0;31m---------------------------------------------------------------------------\u001B[0m",
      "\u001B[0;31mNotImplementedError\u001B[0m                       Traceback (most recent call last)",
      "Input \u001B[0;32mIn [6]\u001B[0m, in \u001B[0;36m<cell line: 1>\u001B[0;34m()\u001B[0m\n\u001B[0;32m----> 1\u001B[0m \u001B[43mproblema_1\u001B[49m\u001B[38;5;241;43m.\u001B[39;49m\u001B[43mactions\u001B[49m\u001B[43m(\u001B[49m\u001B[43mproblema_1\u001B[49m\u001B[38;5;241;43m.\u001B[39;49m\u001B[43minitial\u001B[49m\u001B[43m)\u001B[49m\n",
      "File \u001B[0;32m~/code/fcul/si/PL2/searchPlus.py:43\u001B[0m, in \u001B[0;36mProblem.actions\u001B[0;34m(self, state)\u001B[0m\n\u001B[1;32m     38\u001B[0m \u001B[38;5;28;01mdef\u001B[39;00m \u001B[38;5;21mactions\u001B[39m(\u001B[38;5;28mself\u001B[39m, state):\n\u001B[1;32m     39\u001B[0m     \u001B[38;5;124;03m\"\"\"Return the actions that can be executed in the given\u001B[39;00m\n\u001B[1;32m     40\u001B[0m \u001B[38;5;124;03m    state. The result would typically be a list, but if there are\u001B[39;00m\n\u001B[1;32m     41\u001B[0m \u001B[38;5;124;03m    many actions, consider yielding them one at a time in an\u001B[39;00m\n\u001B[1;32m     42\u001B[0m \u001B[38;5;124;03m    iterator, rather than building them all at once.\"\"\"\u001B[39;00m\n\u001B[0;32m---> 43\u001B[0m     \u001B[38;5;28;01mraise\u001B[39;00m \u001B[38;5;167;01mNotImplementedError\u001B[39;00m\n",
      "\u001B[0;31mNotImplementedError\u001B[0m: "
     ]
    }
   ],
   "source": [
    "problema_1.actions(problema_1.initial)"
   ]
  },
  {
   "cell_type": "markdown",
   "metadata": {},
   "source": [
    "Continuando o mesmo exemplo, antes de definir estas funções, temos que representar o grafo que define o espaço de estados ilustrado acima.\n",
    "\n",
    "Uma possiblidade é utilizar um dicionário:\n",
    "```python\n",
    "grafo = {'I':['A','B'],\n",
    "         'A':['C','D','I'],\n",
    "         'B':['D','F','I'],\n",
    "         'C':[],\n",
    "         'D':['C','F'],\n",
    "         'F':[]}\n",
    "```\n",
    "Nesta representação de um grafo, a chave é um estado, sendo o valor correspondente a lista dos possíveis sucessores. \n",
    "\n",
    "Como os custos dos arcos são homogéneos, não é necessário representá-los.\n",
    "A classe **Problem** atribui o custo 1 a cada acção por defeito, através do método ***path_cost()***. Mas o método recebe como parâmetro o custo acumulado do estado inicial até `state1` (`c`) e adiciona-lhe 1, que é o custo de ir de `state1` para `state2`. \n",
    "\n",
    "```python\n",
    "def path_cost(self, c, state1, action, state2):\n",
    "        \"\"\"Return the cost of a solution path that arrives at state2 from\n",
    "        state1 via action, assuming cost c to get up to state1. If the problem\n",
    "        is such that the path doesn't matter, this function will only look at\n",
    "        state2.  If the path does matter, it will consider c and maybe state1\n",
    "        and action. The default method costs 1 for every step in the path.\"\"\"\n",
    "        return c + 1\n",
    "   \n",
    " ```\n",
    " \n",
    " Não precisaremos de redefinir este método mas apenas o método ***actions()*** e o método ***result()***. Vamos a isso."
   ]
  },
  {
   "cell_type": "markdown",
   "metadata": {},
   "source": [
    "##### Definir o método ***actions()***\n",
    "Neste exemplo abstracto, uma acção é simplesmente uma transição entre dois estados, X e Y, que poderemos representar pela string **\"Ir de X para Y\"**.\n",
    "\n",
    "Assim, podemos ter a seguinte definição do método ***actions()***:\n",
    "```python\n",
    "def actions(self,estado) :\n",
    "    sucessores = self.grafo[estado]  # obter lista dos sucessores\n",
    "    accoes = map(lambda x : \"ir de {} para {}\".format(estado,x),sucessores) # compor as strings que representam cada uma das possíveis acções\n",
    "    return list(accoes)\n",
    "```\n",
    "\n",
    "Notem que a função ***map()*** aplica uma função a todos os elementos de uma lista. Neste caso, a função é uma função lambda ou anónima, criada e usada na hora."
   ]
  },
  {
   "cell_type": "markdown",
   "metadata": {
    "collapsed": true
   },
   "source": [
    "##### Definir o método ***result()***\n",
    "O método ***result()*** recebe como um dos parâmetros uma acção, que terá que ter o formato determinado pelo método ***actions()***. Não tem de se preocupar com as pré-condições das acções porque é o método ***actions()*** que trata disso.\n",
    "\n",
    "Como cada acção é uma cadeia de caracteres em que o último é o estado seguinte ou sucessor, destino da acção, o que queremos é obter a última palavra de uma *acção*. Vamos usar o método ***split()*** das strings para partir a frase numa lista de palavras e depois vamos buscar a última, usando o índice -1 de uma lista.\n",
    "```python\n",
    "def result(self, estado, accao) :\n",
    "        \"\"\"Assume-se que uma acção é da forma 'ir de X para Y'\n",
    "        \"\"\"\n",
    "        return accao.split()[-1]\n",
    "```"
   ]
  },
  {
   "cell_type": "markdown",
   "metadata": {},
   "source": [
    "Vejamos então como fica a definição completa da classe:"
   ]
  },
  {
   "cell_type": "code",
   "execution_count": null,
   "metadata": {},
   "outputs": [],
   "source": [
    "class ProblemaGrafo(Problem) :\n",
    "    grafo = {'I':['A','B'],\n",
    "             'A':['C','D','I'],\n",
    "             'B':['D','F','I'],\n",
    "             'C':[],\n",
    "             'D':['C','F'],\n",
    "             'F':[]}\n",
    "\n",
    "    def actions(self,estado) :\n",
    "        sucessores = self.grafo[estado]\n",
    "        accoes = map(lambda x : \"ir de {} para {}\".format(estado,x),sucessores)\n",
    "        return list(accoes)\n",
    "        #\n",
    "        # alternativamente:\n",
    "        # accoes = [\"ir de {} para {}\".format(estado,x) for x in sucessores]\n",
    "        # return accoes\n",
    "        # \n",
    "        # alternativamente:\n",
    "        # accoes = list()\n",
    "        # for x in sucessores :\n",
    "        #     accoes.append(\"ir de {} para {}\".format(estado,x))\n",
    "        # return accoes\n",
    "\n",
    "    def result(self, estado, accao) :\n",
    "        \"\"\"Assume-se que uma acção é da forma 'ir de X para Y'\n",
    "        \"\"\"\n",
    "        return accao.split()[-1]"
   ]
  },
  {
   "cell_type": "markdown",
   "metadata": {},
   "source": [
    "Podemos então redefinir o nosso problema e verificar se os métodos dão o resultado esperado:"
   ]
  },
  {
   "cell_type": "code",
   "execution_count": null,
   "metadata": {},
   "outputs": [],
   "source": [
    "p1 = ProblemaGrafo('I','F')"
   ]
  },
  {
   "cell_type": "markdown",
   "metadata": {},
   "source": [
    "Vamos listar todos os estados"
   ]
  },
  {
   "cell_type": "code",
   "execution_count": null,
   "metadata": {},
   "outputs": [],
   "source": [
    "print(\"Estados:\")\n",
    "for estado in p1.grafo.keys():\n",
    "    print(estado)"
   ]
  },
  {
   "cell_type": "markdown",
   "metadata": {},
   "source": [
    "Listemos todas as acções possíveis a partir do estado inicial do problema"
   ]
  },
  {
   "cell_type": "code",
   "execution_count": null,
   "metadata": {},
   "outputs": [],
   "source": [
    "p1.actions(p1.initial)"
   ]
  },
  {
   "cell_type": "markdown",
   "metadata": {},
   "source": [
    "Vejamos qual o resultado de executar a acção 'ir de I para B' a partir de I"
   ]
  },
  {
   "cell_type": "code",
   "execution_count": null,
   "metadata": {},
   "outputs": [],
   "source": [
    "p1.result('I','ir de I para B')"
   ]
  },
  {
   "cell_type": "markdown",
   "metadata": {},
   "source": [
    "Testemos se 'B' é o estado final"
   ]
  },
  {
   "cell_type": "code",
   "execution_count": null,
   "metadata": {},
   "outputs": [],
   "source": [
    "p1.goal_test('B')"
   ]
  },
  {
   "cell_type": "markdown",
   "metadata": {},
   "source": [
    "Vamos aplicar a primeira accão ao estado inicial e verifiquemos onde estamos"
   ]
  },
  {
   "cell_type": "code",
   "execution_count": null,
   "metadata": {},
   "outputs": [],
   "source": [
    "p1.result(p1.initial,p1.actions(p1.initial)[0])"
   ]
  },
  {
   "cell_type": "markdown",
   "metadata": {},
   "source": [
    "Vamos testar a satisfação do objectivo e calcular o custo progressivamente à medida que vamos executando a primeira acção dado o estado inicial e a segunda dado o estado resultante."
   ]
  },
  {
   "cell_type": "code",
   "execution_count": null,
   "metadata": {},
   "outputs": [],
   "source": [
    "custo=0\n",
    "e0 = p1.initial\n",
    "print('Em',e0,'com custo',custo)\n",
    "print('Cheguei ao objectivo?',p1.goal_test(e0))\n",
    "a1 = p1.actions(e0)[0]\n",
    "e1 = p1.result(e0,a1) # aplicar a 1ª acção ao estado inicial\n",
    "custo = p1.path_cost(custo,e0,a1,e1)\n",
    "print('Após executar a 1ª acção:', a1, 'passei para ',e1, ', com custo',custo)\n",
    "print('Cheguei ao objectivo?',p1.goal_test(e1))\n",
    "a2 = p1.actions(e1)[0]\n",
    "e2 = p1.result(e1,a2) # aplicar uma acção ao estado seguinte\n",
    "custo = p1.path_cost(custo,e1,a2,e2)\n",
    "print('Após executar a 2ª acção:', a2, ', passei para ',e2, ', com custo',custo)\n",
    "print('Cheguei ao objectivo?',p1.goal_test(e1))"
   ]
  },
  {
   "cell_type": "markdown",
   "metadata": {},
   "source": [
    "#### A função ***__eq()__***\n",
    "Quando existem vários estados finais que podemos enumerar, o método ***goal_test()*** verifica se um estado é membro de uma lista de estados usando `in`. Neste caso, como os estados são strings o `in` funciona bem e não é preciso redefinir o teste de igualdade. De notar que se os estados fossem instâncias de uma classe e não strings, e como dois objectos diferentes mas com o mesmo conteúdo não são naturalmente iguais mas deveriam ser iguais, teríamos de redefinir o ***__eq()__***."
   ]
  },
  {
   "cell_type": "markdown",
   "metadata": {},
   "source": [
    "## Exercício 1\n",
    "Crie um problema da classe **ProblemaGrafo** com o estado inicial 'A' e estados finais 'F' e 'E'."
   ]
  },
  {
   "cell_type": "code",
   "execution_count": null,
   "metadata": {},
   "outputs": [],
   "source": [
    "# invocação do construtor aqui...\n",
    "ex1 = ProblemaGrafo('A', ['F', 'E'])\n",
    "print(ex1.grafo)"
   ]
  },
  {
   "cell_type": "markdown",
   "metadata": {},
   "source": [
    "## Exercício 2\n",
    "Como poderá mudar o grafo da classe **ProblemaGrafo** de modo a poderem utilizar diferentes grafos e não apenas este? Ficam aqui duas sugestões e podem implementar as duas: (1) mudem o valor do atributo estático antes ou depois de criarem uma instância da classe; (2) refaçam a classe de modo a que o grafo seja passado como parâmetro no construtor, sendo um atributo dinâmico e privado de cada objecto do tipo **ProblemaGrafo**."
   ]
  },
  {
   "cell_type": "code",
   "execution_count": null,
   "metadata": {},
   "outputs": [],
   "source": [
    "# sugestão 1\n",
    "grafos1 = {'I':['A','B'],\n",
    "         'A':['C','I'],\n",
    "         'B':['D','F','I'],\n",
    "         'C':[],\n",
    "         'D':['F'],\n",
    "         'F':[]}\n",
    "\n",
    "ex2s1 = ProblemaGrafo('A', 'F')\n",
    "ex2s1.grafo = grafos1\n",
    "\n",
    "print(ex2s1.grafo)"
   ]
  },
  {
   "cell_type": "code",
   "execution_count": null,
   "metadata": {},
   "outputs": [],
   "source": [
    "# sugestão 2\n",
    "class ProblemaGrafo_Grafo(ProblemaGrafo):\n",
    "    def __init__(self, initial, goal, grafo):\n",
    "        self.grafo = grafo\n",
    "        super().__init__(initial, goal)\n",
    "\n",
    "ex2s2 = ProblemaGrafo_Grafo('A', 'F', {'I':['B'],\n",
    "             'A':['C','I'],\n",
    "             'B':['D','F'],\n",
    "             'C':[],\n",
    "             'D':['F'],\n",
    "             'F':[]})\n",
    "\n",
    "print(ex2s2.grafo)"
   ]
  },
  {
   "cell_type": "markdown",
   "metadata": {},
   "source": [
    "## Grafo abstracto com custos\n"
   ]
  },
  {
   "cell_type": "markdown",
   "metadata": {},
   "source": [
    "Olhemos agora para um grafo em que os custos não são homogéneos. Por exemplo este:\n",
    "\n",
    "<img src=\"figures/figura-ee-T-2.png\" alt=\"Drawing\" style=\"width: 300px;\"/>"
   ]
  },
  {
   "cell_type": "markdown",
   "metadata": {},
   "source": [
    "Vamos representar este grafo com custos num dicionário em que cada chave é um estado e em que o valor é um novo dicionário, sendo a chave o estado sucessor e o valor o custo do arco.\n",
    "O grafo será guardado no atributo grafo da nova classe\n",
    "\n",
    "``` python\n",
    "grafo = {'I':{'A':2,'B':5},\n",
    "             'A':{'C':2,'D':4,'I':2},\n",
    "             'B':{'D':1,'F':5,'I':5},\n",
    "             'C':{},\n",
    "             'D':{'C':3,'F':2},\n",
    "             'F':{}}\n",
    "```"
   ]
  },
  {
   "cell_type": "markdown",
   "metadata": {},
   "source": [
    "Para além disso, precisamos de criar um método ***path_cost()*** que se vai sobrepor ao método da super-classe **Problem**. Lembram-se que este último atribui sempre 1 como custo de qualquer arco.\n",
    "Este método recebe o custo actual do caminho (***c***) desde o estado inicial até ao estado ***state1***, calculado pelo algoritmo de procura. A acção (***action***) provoca uma transição entre ***state1*** e ***state2*** e o custo da acção é adicionado a ***c***.\n",
    "Para sabermos qual o custo da acção que leva do ***state1*** ao ***state2*** teremos de ir ler no grafo."
   ]
  },
  {
   "cell_type": "markdown",
   "metadata": {},
   "source": [
    "``` python\n",
    "def path_cost(self, c, state1, action, state2):\n",
    "        return c + self.grafo[state1][state2]\n",
    "```"
   ]
  },
  {
   "cell_type": "markdown",
   "metadata": {},
   "source": [
    "Vejamos então a definição completa da nova classe:"
   ]
  },
  {
   "cell_type": "code",
   "execution_count": null,
   "metadata": {},
   "outputs": [],
   "source": [
    "class ProblemaGrafoCustos(Problem) :\n",
    "    grafo = {'I':{'A':2,'B':5},\n",
    "             'A':{'C':2,'D':4,'I':2},\n",
    "             'B':{'D':1,'F':5,'I':5},\n",
    "             'C':{},\n",
    "             'D':{'C':3,'F':2},\n",
    "             'F':{}}\n",
    "\n",
    "    def __init__(self,initial = 'I', final = 'F') :\n",
    "        super().__init__(initial,final)\n",
    "        \n",
    "    def actions(self,estado) :\n",
    "        sucessores = self.grafo[estado].keys()  # métodos keys() devolve a lista das chaves do dicionário\n",
    "        accoes = list(map(lambda x : \"ir de {} para {}\".format(estado,x),sucessores))\n",
    "        return accoes\n",
    "\n",
    "    def result(self, estado, accao) :\n",
    "        \"\"\"Assume-se que uma acção é da forma 'ir de X para Y'\n",
    "        \"\"\"\n",
    "        return accao.split()[-1]\n",
    "    \n",
    "    def path_cost(self, c, state1, action, state2):\n",
    "        \"\"\"Assume-se que action é da forma 'ir de <state1> para <state2>'\n",
    "        \"\"\"\n",
    "        return c + self.grafo[state1][state2]\n"
   ]
  },
  {
   "cell_type": "markdown",
   "metadata": {},
   "source": [
    "Vamos criar um problema e executar algumas operações."
   ]
  },
  {
   "cell_type": "code",
   "execution_count": null,
   "metadata": {},
   "outputs": [],
   "source": [
    "p = ProblemaGrafoCustos()\n",
    "custo = 0\n",
    "print(\"Estado inicial:\",p.initial, 'com custo',custo)\n",
    "print(\"Estado final:\",p.goal)\n",
    "actions = p.actions(p.initial)\n",
    "print('Cheguei ao objectivo?',p.goal_test(p.initial))\n",
    "print(\"As acções do estado inicial:\",str(actions))\n",
    "e1 = p.result(p.initial,actions[1])\n",
    "print(\"Partindo de\", p.initial,\"executo a acção de \" + actions[1]+\" e vou parar em :\",e1)\n",
    "custo = p.path_cost(0,p.initial,actions[1],e1)\n",
    "print(\"O custo desde o início é:\",custo)\n",
    "print('Cheguei ao objectivo?',p.goal_test(e1))\n",
    "e2 = p.result(e1,p.actions(e1)[1])\n",
    "print(\"Partindo de\", e1,\"executo a acção de \" + p.actions(e1)[1]+\" e vou parar em :\",e2)\n",
    "custo = p.path_cost(custo,e1,actions[1],e2)\n",
    "print(\"O custo desde o início é:\",custo)\n",
    "print('Cheguei ao objectivo?',p.goal_test(e2))"
   ]
  },
  {
   "cell_type": "markdown",
   "metadata": {},
   "source": [
    "## O Problema da inversão das setas\n",
    "<img src=\"figures/6arrows.png\" alt=\"Drawing\" style=\"width: 200px;\"/>\n",
    "\n",
    "Vamos ver como poderemos, usando a linguagem Python, formular o problema da inversão das setas\n",
    "\n",
    "Imagine que temos seis setas dispostas de cima para baixo, em que as primeiras 3 estão orientadas para a esquerda e as 3 últimas para a direita e que queremos obter seis setas com orientação alternada, quando o único movimento possível é inverter a orientação de duas setas adjacentes.\n",
    "\n",
    "Se partirmos da situação inicial e aplicarmos a inversão das duas primeiras setas, obteremos todas orientadas para a direita, excepto a terceira."
   ]
  },
  {
   "cell_type": "markdown",
   "metadata": {},
   "source": [
    "### Representação dos estados\n",
    "Poderíamos representar o estado por uma estrutura de dados simples, como uma lista. No entanto, para uma modelização mais *object-oriented*, vamos representar os estados deste problema como sendo objetos com um atributo que é uma lista de comprimento 6 em que da esquerda para a direita representamos a orientação das setas, ordenadas de cima para baixo, onde \"d\" indica que uma seta aponta para a direita e \"e\" representa o sentido da seta para a esquerda. A situação inicial é dada pela lista: [e,e,e,d,d,d]\n",
    "\n",
    "Vamos ter um atributo ***setas*** onde guardamos a lista.\n",
    "\n",
    "Só representamos numa classe porque queremos associar ao atributo um conjunto de métodos. Assim, precisamos de 3 métodos, pelo menos \n",
    "\n",
    "    i) que inverta uma seta: de \"e\" para \"d\" e vice-versa.\n",
    "\n",
    "    ii) que inverta um par de setas adjacentes indicando o primeiro índice: 1 para inverter a primeira e a segunda, ..., 5 para inverter a quinta e sexta setas.\n",
    "\n",
    "    iii) que imprima as setas de um modo mais ou menos \"pretty\".  "
   ]
  },
  {
   "cell_type": "code",
   "execution_count": 29,
   "metadata": {},
   "outputs": [],
   "source": [
    "class EstadoSetas :\n",
    "\n",
    "    \"\"\"Um estado do problema da inversao das setas\n",
    "        Uma lista de 6 setas (e's ou d's), indicando para cada seta se está orientada\n",
    "        para a esquerda para para a direita\n",
    "        A ordem da esquerda para a direita corresponde às setas de cima para baixo\n",
    "    \"\"\"\n",
    "    def __init__(self,setas = [\"e\",\"e\",\"e\",\"d\",\"d\",\"d\"]) :\n",
    "        \"\"\" Construtor: por omissão um estado corresponde ao estado inicial do problema\"\"\"\n",
    "        self.setas = setas\n",
    "\n",
    "        \n",
    "    def flip(self,seta) :\n",
    "        \"\"\" Inversão do sentido de uma seta: de e para d e de d para e\"\"\"\n",
    "        if seta==\"e\":\n",
    "            return \"d\"\n",
    "        else:\n",
    "            return \"e\"\n",
    "\n",
    "    def inverte(self,n) :\n",
    "        \"\"\" Inverte duas setas, na posição n e n+1. A primeira seta está na posição 0\n",
    "            e para inverter a primeira e a segunda, de cima para baixo, implica n = 0.\n",
    "            Gera uma nova lista.\n",
    "        \"\"\"\n",
    "        copye = []\n",
    "        for i in range(len(self.setas)) :\n",
    "            if i == n-1 or i == n :\n",
    "                copye.append(self.flip(self.setas[i]))\n",
    "            else:\n",
    "                copye.append(self.setas[i])\n",
    "        return EstadoSetas(copye)\n",
    "        \n",
    "    def __str__(self) :\n",
    "        \"\"\" Cria uma string com a orientação das setas separadas pelo símbolos -.\n",
    "            Esta é a string devolvida pelo método print\"\"\"\n",
    "        return str(\"-\".join(self.setas))"
   ]
  },
  {
   "cell_type": "markdown",
   "metadata": {},
   "source": [
    "Podemos criar uma instância de um estado, por exemplo, o caso inicial do problema,  desta maneira, sem passar quaisquer argumentos:"
   ]
  },
  {
   "cell_type": "code",
   "execution_count": 30,
   "metadata": {},
   "outputs": [
    {
     "name": "stdout",
     "output_type": "stream",
     "text": [
      "e-e-e-d-d-d\n"
     ]
    }
   ],
   "source": [
    "x = EstadoSetas()\n",
    "print(x)"
   ]
  },
  {
   "cell_type": "markdown",
   "metadata": {},
   "source": [
    "Se quisermos criar uma nova instância, com outra combinação de orientações teremos de substituir o valor por omissão."
   ]
  },
  {
   "cell_type": "code",
   "execution_count": 31,
   "metadata": {},
   "outputs": [
    {
     "name": "stdout",
     "output_type": "stream",
     "text": [
      "d-e-d-d-d-e\n"
     ]
    }
   ],
   "source": [
    "x = EstadoSetas([\"d\",\"e\",\"d\",\"d\",\"d\",\"e\"])\n",
    "print(x)"
   ]
  },
  {
   "cell_type": "markdown",
   "metadata": {},
   "source": [
    "Se quisermos inverter algumas setas adjacentes de x, faremos:"
   ]
  },
  {
   "cell_type": "code",
   "execution_count": 32,
   "metadata": {},
   "outputs": [
    {
     "name": "stdout",
     "output_type": "stream",
     "text": [
      "Começamos com: d-e-d-d-d-e\n",
      "Dado d-e-d-d-d-e inverte a primeira e a segunda setas: e-d-d-d-d-e\n",
      "Dado e-d-d-d-d-e inverte a segunda e terceira setas: e-e-e-d-d-e\n"
     ]
    }
   ],
   "source": [
    "print(\"Começamos com:\",x)\n",
    "y = x.inverte(1)\n",
    "print('Dado',x,\"inverte a primeira e a segunda setas:\",y)\n",
    "z = y.inverte(2)\n",
    "print('Dado',y,\"inverte a segunda e terceira setas:\",z)"
   ]
  },
  {
   "cell_type": "markdown",
   "metadata": {},
   "source": [
    "Podemos agora inverter de novo a 1ª e 2ª setas , depois de inverter a 2ª e 3ª, regressando à configuração inicial."
   ]
  },
  {
   "cell_type": "code",
   "execution_count": 33,
   "metadata": {},
   "outputs": [
    {
     "name": "stdout",
     "output_type": "stream",
     "text": [
      "Agora façamos o inverso, invertamos a 2ª e a 3ª primeiro e depois a 1ª e a 2ª d-e-d-d-d-e\n"
     ]
    }
   ],
   "source": [
    "f = z.inverte(2).inverte(1)\n",
    "print('Agora façamos o inverso, invertamos a 2ª e a 3ª primeiro e depois a 1ª e a 2ª',f)"
   ]
  },
  {
   "cell_type": "markdown",
   "metadata": {},
   "source": [
    "Testemos e são iguais, a original e a que resulta das quatro inversões em espelho."
   ]
  },
  {
   "cell_type": "code",
   "execution_count": 34,
   "metadata": {},
   "outputs": [
    {
     "name": "stdout",
     "output_type": "stream",
     "text": [
      "Iguais? False\n",
      "f = d-e-d-d-d-e\n",
      "x = d-e-d-d-d-e\n"
     ]
    }
   ],
   "source": [
    "print(\"Iguais?\",f == x)\n",
    "print(\"f =\",f)\n",
    "print(\"x =\",x)"
   ]
  },
  {
   "cell_type": "markdown",
   "metadata": {},
   "source": [
    "Como pudemos ver, os dois estados não são considerados iguais embora os seus atributos *setas* sejam iguais. São duas instâncias diferentes. Têm de ser iguais se os respetivos atributos 'setas' forem iguais.\n",
    "Assim, a função de teste ***goal_test()*** herdada de **Problem** não irá funcionar porque para verificar se um objecto é membro de uma lista é preciso que esse objecto seja membro da lista, i.e., igual a algum elemento da lista."
   ]
  },
  {
   "cell_type": "markdown",
   "metadata": {},
   "source": [
    "Repare que no problema das setas temos dois objetivos (como se pode ver na figura). O que significa que o atributo ***goal*** da classe **Problem** será uma lista com dois elementos\n",
    "```python\n",
    "[EstadoSetas(['d','e','d','e','d','e']),EstadoSetas(['e','d','e','d','e','d'])]\n",
    "``` \n",
    "Assim, a função ***goal_test()*** irá verificar se um dado estado (objeto) é membro desta lista"
   ]
  },
  {
   "cell_type": "code",
   "execution_count": 35,
   "metadata": {},
   "outputs": [
    {
     "data": {
      "text/plain": "False"
     },
     "execution_count": 35,
     "metadata": {},
     "output_type": "execute_result"
    }
   ],
   "source": [
    "EstadoSetas(['d','e','d','e','d','e']) in [EstadoSetas(['d','e','d','e','d','e']),EstadoSetas(['e','d','e','d','e','d'])]"
   ]
  },
  {
   "cell_type": "code",
   "execution_count": 36,
   "metadata": {},
   "outputs": [
    {
     "data": {
      "text/plain": "False"
     },
     "execution_count": 36,
     "metadata": {},
     "output_type": "execute_result"
    }
   ],
   "source": [
    "EstadoSetas(['d','e','d','e','d','e']) == EstadoSetas(['d','e','d','e','d','e'])"
   ]
  },
  {
   "cell_type": "markdown",
   "metadata": {},
   "source": [
    "Vamos definir o método **\\_\\_eq\\_\\_** de modo a que os estados sejam considerados iguais quando as ***setas*** forem iguais.\n",
    "\n",
    "``` python\n",
    "    def __eq__(self,estado) :\n",
    "        \"\"\"Definir em que circunstância os dois estados são considerados iguais.\n",
    "        Necessário para os algoritmos de procura em grafo.\n",
    "        \"\"\"\n",
    "        return self.setas == estado.setas\n",
    "```\n",
    "\n"
   ]
  },
  {
   "cell_type": "markdown",
   "metadata": {},
   "source": [
    "Vejemos a redefinição da classe **EstadoSetas**"
   ]
  },
  {
   "cell_type": "code",
   "execution_count": 37,
   "metadata": {},
   "outputs": [],
   "source": [
    "class EstadoSetas :\n",
    "\n",
    "    \"\"\"Um estado do problema da inversao das setas\n",
    "        Uma lista de 6 setas (e's ou d's), indicando para cada seta se está orientada\n",
    "        para a esquerda para para a direita\n",
    "        A ordem da esquerda para a direita corresponde às setas de cima para baixo\n",
    "    \"\"\"\n",
    "    def __init__(self,setas = [\"e\",\"e\",\"e\",\"d\",\"d\",\"d\"]) :\n",
    "        \"\"\" Construtor: por omissão um estado corresponde ao estado inicial do problema\"\"\"\n",
    "        self.setas = setas\n",
    "\n",
    "        \n",
    "    def flip(self,seta) :\n",
    "        \"\"\" Inversão do sentido de uma seta: de e para d e de d para e\"\"\"\n",
    "        if seta==\"e\":\n",
    "            return \"d\"\n",
    "        else:\n",
    "            return \"e\"\n",
    "\n",
    "    def inverte(self,n) :\n",
    "        \"\"\" Inverte duas setas, na posição n e n+1. A primeira seta está na posição 0\n",
    "            e para inverter a primeira e a segunda, de cima para baixo, implica n = 0.\n",
    "            Gera uma nova lista.\n",
    "        \"\"\"\n",
    "        copye = []\n",
    "        for i in range(len(self.setas)) :\n",
    "            if i == n-1 or i == n :\n",
    "                copye.append(self.flip(self.setas[i]))\n",
    "            else:\n",
    "                copye.append(self.setas[i])\n",
    "        return EstadoSetas(copye)\n",
    "    \n",
    "    def __eq__(self,estado) :\n",
    "        \"\"\"Definir em que circunstância os dois estados são considerados iguais.\n",
    "        Necessário para os algoritmos de procura em grafo.\n",
    "        \"\"\"\n",
    "        return self.setas == estado.setas\n",
    "        \n",
    "    def __str__(self) :\n",
    "        \"\"\" Cria uma string com a orientação das setas separadas pelo símbolos -.\n",
    "            Esta é a string devolvida pelo método print\"\"\"\n",
    "        return str(\"-\".join(self.setas))\n",
    "    "
   ]
  },
  {
   "cell_type": "markdown",
   "metadata": {},
   "source": [
    "Voltemos a repetir as acções que fizemos anteriormente."
   ]
  },
  {
   "cell_type": "code",
   "execution_count": 38,
   "metadata": {},
   "outputs": [
    {
     "name": "stdout",
     "output_type": "stream",
     "text": [
      "Começamos com: d-e-d-d-d-e\n",
      "Agora, inverte a primeira e a segunda: e-d-d-d-d-e\n",
      "E inverte a segunda e terceira setas: e-e-e-d-d-e\n",
      "Façamos o inverso das duas inversões: d-e-d-d-d-e\n",
      "Os dois estados (o original e este que resulta de 4 acções) serão iguais? True\n"
     ]
    }
   ],
   "source": [
    "x = EstadoSetas([\"d\",\"e\",\"d\",\"d\",\"d\",\"e\"])\n",
    "print(\"Começamos com:\",x)\n",
    "y = x.inverte(1)\n",
    "print(\"Agora, inverte a primeira e a segunda:\",y)\n",
    "z = y.inverte(2)\n",
    "print(\"E inverte a segunda e terceira setas:\",z)\n",
    "f = z.inverte(2).inverte(1)\n",
    "print(\"Façamos o inverso das duas inversões:\",f)\n",
    "print(\"Os dois estados (o original e este que resulta de 4 acções) serão iguais?\",f==x)"
   ]
  },
  {
   "cell_type": "markdown",
   "metadata": {},
   "source": [
    "Confirmemos mais uma vez que dois objectos diferentes com setas iguais, são iguais"
   ]
  },
  {
   "cell_type": "code",
   "execution_count": 41,
   "metadata": {},
   "outputs": [
    {
     "data": {
      "text/plain": "True"
     },
     "execution_count": 41,
     "metadata": {},
     "output_type": "execute_result"
    }
   ],
   "source": [
    "EstadoSetas([\"d\",\"e\",\"d\",\"d\",\"d\",\"e\"]) == EstadoSetas([\"d\",\"e\",\"d\",\"d\",\"d\",\"e\"])"
   ]
  },
  {
   "cell_type": "markdown",
   "metadata": {},
   "source": [
    "### A classe subclasse de Problem\n",
    "Vamos agora definir a classe do Problema das setas que vai ser uma subclasse da classe **Problem**. Notem que não é preciso ***goal_test()*** nem ***path_cost()***. Não precisamos do ***goal_test()*** porque apenas queremos verificar se um estado está na lista de estados finais que são conhecidos, o que o ***goal_test()*** herdado de **Problem** já faz. Não precisamos do ***path_cost()*** porque cada acção custa sempre 1, que é o caso do ***path_cost()*** herdado de **Problem**."
   ]
  },
  {
   "cell_type": "code",
   "execution_count": 42,
   "metadata": {},
   "outputs": [],
   "source": [
    "class ProblemaSetas(Problem) :\n",
    "    \n",
    "    def __init__(self,initial = EstadoSetas([\"e\",\"e\",\"e\",\"d\",\"d\",\"d\"]),goal=[EstadoSetas([\"e\",\"d\",\"e\",\"d\",\"e\",\"d\"]),EstadoSetas([\"d\",\"e\",\"d\",\"e\",\"d\",\"e\"])]) :\n",
    "        \"\"\" Basta invocar o construtor de Problem com os dois argumentos initial e goal.\"\"\"\n",
    "        super().__init__(initial,goal)\n",
    "\n",
    "    \n",
    "    def actions(self,estado) :\n",
    "        \"\"\" 5 acções: 1, 2, 3, 4 e 5.\n",
    "            A acção 1 corresponde a inverter as setas de índices 0 e 1 da lista\n",
    "            A acção 5 coorresponde a inverter as setas de índices 4 e 5, as últimas duas \"\"\"\n",
    "        accoes = [1,2,3,4,5]\n",
    "        \n",
    "        return accoes \n",
    "\n",
    "    def result(self,estado,acao) :\n",
    "        \"\"\" Basta-nos invocar o método inverte definido na classe EstadoSetas. \n",
    "            No caso de a acção não ser reconhecida imprime mensagem de erro e devolve None\"\"\"\n",
    "        if acao in self.actions(estado) :\n",
    "            resultante = estado.inverte(acao)\n",
    "        else :\n",
    "            raise \"Há aqui qualquer coisa mal>> acao não reconhecida\"\n",
    " \n",
    "        return resultante"
   ]
  },
  {
   "cell_type": "code",
   "execution_count": 43,
   "metadata": {},
   "outputs": [
    {
     "name": "stdout",
     "output_type": "stream",
     "text": [
      "e-e-e-d-d-d\n"
     ]
    }
   ],
   "source": [
    "p = ProblemaSetas()\n",
    "print(p.initial)"
   ]
  },
  {
   "cell_type": "code",
   "execution_count": 44,
   "metadata": {},
   "outputs": [
    {
     "name": "stdout",
     "output_type": "stream",
     "text": [
      "d-e-d-e-d-e satisfaz o objectivo? True\n",
      "d-d-d-e-d-e satisfaz o objectivo? False\n"
     ]
    }
   ],
   "source": [
    "x = EstadoSetas(['d','e','d','e','d','e'])\n",
    "print(x,\"satisfaz o objectivo?\",p.goal_test(x))\n",
    "y = EstadoSetas(['d','d','d','e','d','e'])\n",
    "print(y,\"satisfaz o objectivo?\",p.goal_test(y))"
   ]
  },
  {
   "cell_type": "markdown",
   "metadata": {},
   "source": [
    "Quais as acções aplicáveis ao estado inicial?"
   ]
  },
  {
   "cell_type": "code",
   "execution_count": null,
   "metadata": {},
   "outputs": [],
   "source": [
    "p.actions(p.initial)"
   ]
  },
  {
   "cell_type": "markdown",
   "metadata": {},
   "source": [
    "Apliquemos a acção 1 ao estado inicial"
   ]
  },
  {
   "cell_type": "code",
   "execution_count": null,
   "metadata": {},
   "outputs": [],
   "source": [
    "s1 = p.result(p.initial,1)\n",
    "print(s1)"
   ]
  },
  {
   "cell_type": "markdown",
   "metadata": {},
   "source": [
    "Confirmemos que se voltarmos a aplicar a mesma acção regressamos ao estado inicial"
   ]
  },
  {
   "cell_type": "code",
   "execution_count": null,
   "metadata": {},
   "outputs": [],
   "source": [
    "s2 = p.result(s1,1)\n",
    "s2 == p.initial"
   ]
  },
  {
   "cell_type": "markdown",
   "metadata": {},
   "source": [
    "Confirmemos que o ***goal_test()*** herdado está a funcionar bem. \n",
    "Vamos aplicar as acções 1, 2, 4 e 5 sobre o estado inicial e verifiquemos se o estado resultante é final. "
   ]
  },
  {
   "cell_type": "code",
   "execution_count": null,
   "metadata": {},
   "outputs": [],
   "source": [
    "custo=0\n",
    "print(p.initial)\n",
    "print('Custo total:',custo)\n",
    "print('Inverte setas 1 e 2')\n",
    "s1 = p.result(p.initial,1)\n",
    "print(s1)\n",
    "custo=p.path_cost(custo,p.initial,1,s1)\n",
    "print('Custo total:',custo)\n",
    "print('Inverte setas 2 e 3')\n",
    "s2 = p.result(s1,2)\n",
    "print(s2)\n",
    "custo=p.path_cost(custo,s1,2,s2)\n",
    "print('Custo total:',custo)\n",
    "print('Inverte setas 4 e 5')\n",
    "s3 = p.result(s2,4)\n",
    "print(s3)\n",
    "custo=p.path_cost(custo,s1,4,s2)\n",
    "print('Custo total:',custo)\n",
    "print('Inverte setas 5 e 6')\n",
    "s4 = p.result(s3,5)\n",
    "print(s4)\n",
    "custo=p.path_cost(custo,s3,1,s4)\n",
    "print('Custo total:',custo)\n",
    "print(\"Final?\",p.goal_test(s4))"
   ]
  },
  {
   "cell_type": "markdown",
   "metadata": {},
   "source": [
    "## Exercício 3\n",
    "Adapta o problema da inversão das 6 setas para qualquer número de setas."
   ]
  },
  {
   "cell_type": "code",
   "execution_count": null,
   "outputs": [],
   "source": [
    "class ProblemaSetas_Ex3(ProblemaSetas):\n",
    "    def actions(self, state):\n",
    "        return list(range(1, len(self.initial.setas) + 1))\n",
    "\n",
    "ex3 = ProblemaSetas_Ex3()\n",
    "print(ex3.actions(ex3.initial))"
   ],
   "metadata": {
    "collapsed": false,
    "pycharm": {
     "name": "#%%\n"
    }
   }
  },
  {
   "cell_type": "markdown",
   "metadata": {},
   "source": [
    "## Exercício 4\n",
    "Supõe que tens um número arbitrário de moedas de 50, 20, 10, 5, 2 e 1 cêntimos, e que pretendes dar o troco no valor de N cêntimos, utilizando o menor número de moedas. Formula o problema em Python, seguindo o paradigma do Espaço de Estados, de modo a poder resolver o problema de saber quais as moedas a utilizar para formar qualquer troco desejado.\n",
    "<img src=\"figures/centimos.PNG\" alt=\"Drawing\" style=\"width: 200px;\"/>"
   ]
  },
  {
   "cell_type": "code",
   "execution_count": 26,
   "outputs": [],
   "source": [
    "class ProblemaMoedas(Problem):\n",
    "    moedas = {}\n",
    "\n",
    "    def __init__(self, initial = {1: 0, 2: 0, 5: 0, 10: 0, 20: 0, 50: 0}, goal = 49):\n",
    "        self.initial = initial\n",
    "        self.goal = goal\n",
    "\n",
    "    def troco_atual(self):\n",
    "        return sum(k * v for k, v in self.moedas.values())\n",
    "\n",
    "    def actions(self, estado):\n",
    "        total = self.troco_atual() + estado\n",
    "        sucessores = filter(lambda x: total + x <= self.goal, [50, 20, 10, 5, 2, 1])\n",
    "        accoes = map(lambda x: f\"dar uma moeda {x}\", sucessores)\n",
    "        return list(accoes)\n",
    "\n",
    "    def result(self, estado, accao):\n",
    "        return accao.split()[-1]"
   ],
   "metadata": {
    "collapsed": false,
    "pycharm": {
     "name": "#%%\n"
    }
   }
  },
  {
   "cell_type": "code",
   "execution_count": 45,
   "outputs": [
    {
     "name": "stdout",
     "output_type": "stream",
     "text": [
      "Estado inicial: {1: 0, 2: 0, 5: 0, 10: 0, 20: 0, 50: 0} com custo 0\n",
      "Estado final: 58\n"
     ]
    },
    {
     "ename": "TypeError",
     "evalue": "unsupported operand type(s) for +: 'int' and 'dict'",
     "output_type": "error",
     "traceback": [
      "\u001B[0;31m---------------------------------------------------------------------------\u001B[0m",
      "\u001B[0;31mTypeError\u001B[0m                                 Traceback (most recent call last)",
      "Input \u001B[0;32mIn [45]\u001B[0m, in \u001B[0;36m<cell line: 6>\u001B[0;34m()\u001B[0m\n\u001B[1;32m      4\u001B[0m \u001B[38;5;28mprint\u001B[39m(\u001B[38;5;124m\"\u001B[39m\u001B[38;5;124mEstado inicial:\u001B[39m\u001B[38;5;124m\"\u001B[39m, ex4\u001B[38;5;241m.\u001B[39minitial, \u001B[38;5;124m'\u001B[39m\u001B[38;5;124mcom custo\u001B[39m\u001B[38;5;124m'\u001B[39m,custo)\n\u001B[1;32m      5\u001B[0m \u001B[38;5;28mprint\u001B[39m(\u001B[38;5;124m\"\u001B[39m\u001B[38;5;124mEstado final:\u001B[39m\u001B[38;5;124m\"\u001B[39m, ex4\u001B[38;5;241m.\u001B[39mgoal)\n\u001B[0;32m----> 6\u001B[0m actions \u001B[38;5;241m=\u001B[39m \u001B[43mex4\u001B[49m\u001B[38;5;241;43m.\u001B[39;49m\u001B[43mactions\u001B[49m\u001B[43m(\u001B[49m\u001B[43mex4\u001B[49m\u001B[38;5;241;43m.\u001B[39;49m\u001B[43minitial\u001B[49m\u001B[43m)\u001B[49m\n\u001B[1;32m      7\u001B[0m \u001B[38;5;28mprint\u001B[39m(\u001B[38;5;124m'\u001B[39m\u001B[38;5;124mCheguei ao objectivo? \u001B[39m\u001B[38;5;124m'\u001B[39m, ex4\u001B[38;5;241m.\u001B[39mgoal_test(ex4\u001B[38;5;241m.\u001B[39mtroco_atual()))\n\u001B[1;32m      8\u001B[0m \u001B[38;5;28mprint\u001B[39m(\u001B[38;5;124m\"\u001B[39m\u001B[38;5;124mAs acções do estado inicial:\u001B[39m\u001B[38;5;124m\"\u001B[39m, \u001B[38;5;28mstr\u001B[39m(actions))\n",
      "Input \u001B[0;32mIn [26]\u001B[0m, in \u001B[0;36mProblemaMoedas.actions\u001B[0;34m(self, estado)\u001B[0m\n\u001B[1;32m     11\u001B[0m \u001B[38;5;28;01mdef\u001B[39;00m \u001B[38;5;21mactions\u001B[39m(\u001B[38;5;28mself\u001B[39m, estado):\n\u001B[0;32m---> 12\u001B[0m     total \u001B[38;5;241m=\u001B[39m \u001B[38;5;28;43mself\u001B[39;49m\u001B[38;5;241;43m.\u001B[39;49m\u001B[43mtroco_atual\u001B[49m\u001B[43m(\u001B[49m\u001B[43m)\u001B[49m\u001B[43m \u001B[49m\u001B[38;5;241;43m+\u001B[39;49m\u001B[43m \u001B[49m\u001B[43mestado\u001B[49m\n\u001B[1;32m     13\u001B[0m     sucessores \u001B[38;5;241m=\u001B[39m \u001B[38;5;28mfilter\u001B[39m(\u001B[38;5;28;01mlambda\u001B[39;00m x: total \u001B[38;5;241m+\u001B[39m x \u001B[38;5;241m<\u001B[39m\u001B[38;5;241m=\u001B[39m \u001B[38;5;28mself\u001B[39m\u001B[38;5;241m.\u001B[39mgoal, [\u001B[38;5;241m50\u001B[39m, \u001B[38;5;241m20\u001B[39m, \u001B[38;5;241m10\u001B[39m, \u001B[38;5;241m5\u001B[39m, \u001B[38;5;241m2\u001B[39m, \u001B[38;5;241m1\u001B[39m])\n\u001B[1;32m     14\u001B[0m     accoes \u001B[38;5;241m=\u001B[39m \u001B[38;5;28mmap\u001B[39m(\u001B[38;5;28;01mlambda\u001B[39;00m x: \u001B[38;5;124mf\u001B[39m\u001B[38;5;124m\"\u001B[39m\u001B[38;5;124mdar uma moeda \u001B[39m\u001B[38;5;132;01m{\u001B[39;00mx\u001B[38;5;132;01m}\u001B[39;00m\u001B[38;5;124m\"\u001B[39m, sucessores)\n",
      "\u001B[0;31mTypeError\u001B[0m: unsupported operand type(s) for +: 'int' and 'dict'"
     ]
    }
   ],
   "source": [
    "# TODO\n",
    "ex4 = ProblemaMoedas(goal=58)\n",
    "\n",
    "custo = 0\n",
    "print(\"Estado inicial:\", ex4.initial, 'com custo',custo)\n",
    "print(\"Estado final:\", ex4.goal)\n",
    "actions = ex4.actions(ex4.initial)\n",
    "print('Cheguei ao objectivo? ', ex4.goal_test(ex4.troco_atual()))\n",
    "print(\"As acções do estado inicial:\", str(actions))\n",
    "ex4_e1 = ex4.result(ex4.initial,actions[1])\n",
    "print(\"Partindo de\", ex4.initial, \"executo a acção de \" + actions[1]+\" e vou parar em :\", ex4_e1)\n",
    "custo = ex4.path_cost(0, ex4.initial,actions[1],ex4_e1)\n",
    "print(\"O custo desde o início é:\",custo)\n",
    "print('Cheguei ao objectivo?',ex4.goal_test(ex4_e1))\n",
    "ex4_e2 = ex4.result(ex4_e1, ex4.actions(ex4_e1)[1])\n",
    "print(\"Partindo de\", ex4_e1,\"executo a acção de \" + ex4.actions(ex4_e1)[1]+\" e vou parar em :\",ex4_e2)\n",
    "custo = ex4.path_cost(custo,ex4_e1,actions[1],ex4_e2)\n",
    "print(\"O custo desde o início é:\",custo)\n",
    "print('Cheguei ao objectivo?',ex4.goal_test(ex4_e2))"
   ],
   "metadata": {
    "collapsed": false,
    "pycharm": {
     "name": "#%%\n"
    }
   }
  },
  {
   "cell_type": "markdown",
   "metadata": {},
   "source": [
    "## Exercício 5\n",
    "Resolve o problema da ordenação das panquecas. Dada uma pilha de panquecas de vários tamanhos, podes ordená-las de modo descrescente, com a maior em baixo e a mais pequena no topo? Possuis uma espátula com a qual podes inverter as i panquecas do topo, sendo i maior do que 1 e menor ou igual ao número de panquecas. Podes inverter as duas de topo, ou as 3 de topo, ..., ou todas. A figura em baixo ilustra o problema com uma espátula com i=3; no topo a espátula agarra 3 panquecas e no fundo aparecem invertidas:\n",
    "\n",
    "<img src=\"https://upload.wikimedia.org/wikipedia/commons/0/0f/Pancake_sort_operation.png\" alt=\"Drawing\" style=\"width: 200px;\"/>\n",
    "Notem que desejamos inverter o menor número de panquecas, o que obriga a que o custo corresponda ao número de panquecas invertidas."
   ]
  },
  {
   "cell_type": "markdown",
   "metadata": {},
   "source": [
    "## Exercício 6\n",
    "Formula o problema das rãs e sapos saltitantes.\n",
    "Neste puzzle, temos uma linha formada por quadrados, com N quadrados à esquerda preenchidos com rãs azuis e N quadrados à direita preenchidos com sapos vermelhos, e um quadrado livre no meio. Os sapos só podem saltar para a esquerda e as rãs para a direita. As rãs podem deslocar-se para a direita para uma casa livre ou saltar sobre uma rã ou sapo, para uma casa livre à sua direita. Os sapos movem-se de forma análoga, mas para a esquerda. O objetivo é inverter a configuração inicial, colocando os sapos à esquerda, a casa livre e as rãs todas à direita. Na figura seguinte, N é igual a 2.\n",
    "\n",
    "![](https://upload.wikimedia.org/wikipedia/commons/2/2f/ToadsAndFrogs.png)"
   ]
  },
  {
   "cell_type": "markdown",
   "metadata": {},
   "source": [
    "## Exercício 7\n",
    "Considera que que queremos saltar para o passado e realizar uma viagem na linha de metro de Lisboa da época (ver figura). O viajante pretende planear uma viagem entre duas estações que lhe minimize o número de transbordos.\n",
    "\n",
    "Formula este problema de acordo com o paradigma do espaço de estados, usando a classe **Problem**.\n",
    "Podes representar uma sub-parte da linha de metro, incluindo todas as estações de interface e pelo menos 3 estações de cada linha que não sejam de interface entre linhas, escolhidas a teu belo prazer. Nota que a modelização deve estar adaptada de modo a poderes aplicar a qualquer linha de metro, seja a de Lisboa no passado ou no presente, a de Londres, Berlim ou São Petersburgo.\n",
    "<img src=\"figures/LinhaMetroLisboar.PNG\" alt=\"Drawing\" style=\"width: 500px;\"/>"
   ]
  },
  {
   "cell_type": "markdown",
   "metadata": {},
   "source": [
    "## Exercício 8\n",
    "Considera o problema dos quadrados iluminados.\n",
    "É dada uma grelha quadrada, 3x3, na qual alguns quadrados estão iluminados (claros) e outros na escuridão (mais escuros), como por exemplo na grelha da esquerda, acima. O objectivo é atingir, no menor número de passos possível, um estado em que todos os quadrados estejam iluminados (grelha à direita).  \n",
    "\n",
    "De modo a atingir esse objetivo, pode-se escolher um qualquer quadrado e inverter o seu estado (na figura abaixo, foi escolhido o quadrado C3). Só que essa acção tem também o efeito de inverter os estados de todos os quadrados adjacentes (na horizontal e vertical). Cada quadrado contém um pequeno diagrama mostrando quais os outros quadrados que mudam quando esse é invertido.  \n",
    "\n",
    "No exemplo abaixo, ao ser escolhido o quadrado C3, vão também inverter o estado os quadrados B3 e C2, tal como ilustrado. Assim, C3 passou de escuro a iluminado; B3 passou de iluminado a escuro; e C2 passou de escuro a iluminado.\n",
    "\n",
    "![figura](figures/grelha.PNG)\n",
    "\n",
    "Formula este problema de acordo com o paradigma do espaço de estados, e não te esqueças de ter um método para imprimir o tabuleiro, facilitando a sua visualização."
   ]
  },
  {
   "cell_type": "code",
   "execution_count": null,
   "metadata": {},
   "outputs": [],
   "source": []
  }
 ],
 "metadata": {
  "kernelspec": {
   "display_name": "Python 3 (ipykernel)",
   "language": "python",
   "name": "python3"
  },
  "language_info": {
   "codemirror_mode": {
    "name": "ipython",
    "version": 3
   },
   "file_extension": ".py",
   "mimetype": "text/x-python",
   "name": "python",
   "nbconvert_exporter": "python",
   "pygments_lexer": "ipython3",
   "version": "3.8.12"
  }
 },
 "nbformat": 4,
 "nbformat_minor": 2
}